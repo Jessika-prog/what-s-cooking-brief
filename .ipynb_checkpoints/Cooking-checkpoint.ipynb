{
 "cells": [
  {
   "cell_type": "markdown",
   "metadata": {},
   "source": [
    "# What's Cooking"
   ]
  },
  {
   "cell_type": "code",
   "execution_count": 1,
   "metadata": {
    "ExecuteTime": {
     "end_time": "2021-06-23T11:48:59.731748Z",
     "start_time": "2021-06-23T11:48:55.186015Z"
    }
   },
   "outputs": [],
   "source": [
    "from vizualisation import Vizualisation\n",
    "from model import Cook\n",
    "from prediction import Prediction"
   ]
  },
  {
   "cell_type": "code",
   "execution_count": null,
   "metadata": {},
   "outputs": [],
   "source": [
    "#import nltk\n",
    "#nltk.download()"
   ]
  },
  {
   "cell_type": "markdown",
   "metadata": {},
   "source": [
    "## Objectif \n",
    "\n",
    "Prédire l'origine d'une recette en fonction d'une liste d'ingrédients \n",
    "\n",
    "* Données récupérées sous format Json \n",
    "* Compétition Kaggle trouvable sur : https://www.kaggle.com/c/whats-cooking-kernels-only\n",
    "\n",
    "## Analyse et découverte du jeu de données : \n",
    "\n"
   ]
  },
  {
   "cell_type": "markdown",
   "metadata": {},
   "source": [
    "### Analyse de la structure du dataset"
   ]
  },
  {
   "cell_type": "code",
   "execution_count": null,
   "metadata": {
    "ExecuteTime": {
     "end_time": "2021-06-23T07:38:52.959533Z",
     "start_time": "2021-06-23T07:38:52.072061Z"
    }
   },
   "outputs": [],
   "source": [
    "viz = Vizualisation('train.json')"
   ]
  },
  {
   "cell_type": "code",
   "execution_count": null,
   "metadata": {
    "ExecuteTime": {
     "end_time": "2021-06-23T07:38:53.086193Z",
     "start_time": "2021-06-23T07:38:52.966515Z"
    }
   },
   "outputs": [],
   "source": [
    "viz.df_info()"
   ]
  },
  {
   "cell_type": "code",
   "execution_count": null,
   "metadata": {
    "ExecuteTime": {
     "end_time": "2021-06-23T07:38:53.132068Z",
     "start_time": "2021-06-23T07:38:53.093175Z"
    }
   },
   "outputs": [],
   "source": [
    "viz.df.head()"
   ]
  },
  {
   "cell_type": "markdown",
   "metadata": {},
   "source": [
    "Le jeu de données est globalement propre, contient env 39 774 enregistrements sans valeures nulles\n",
    "\n",
    "3 colonnes principales : \n",
    "* **id**\n",
    "* **cuisine** qui correspond à notre target \n",
    "* **ingredients** : cette colonne contient des listes des ingrédients. \n"
   ]
  },
  {
   "cell_type": "markdown",
   "metadata": {},
   "source": [
    "### Analyse des ingrédients"
   ]
  },
  {
   "cell_type": "code",
   "execution_count": null,
   "metadata": {
    "ExecuteTime": {
     "end_time": "2021-06-23T07:38:56.979188Z",
     "start_time": "2021-06-23T07:38:53.290647Z"
    }
   },
   "outputs": [],
   "source": [
    "viz.nb_ingredients_by_recipes()"
   ]
  },
  {
   "cell_type": "markdown",
   "metadata": {},
   "source": [
    "La grande majorité des recettes contiennent moins de 20 ingrédients. \n",
    "\n",
    "Certains Outliers peuvent contenir jusqu'à 60 ingrédients. \n"
   ]
  },
  {
   "cell_type": "code",
   "execution_count": null,
   "metadata": {
    "ExecuteTime": {
     "end_time": "2021-06-23T07:39:02.312707Z",
     "start_time": "2021-06-23T07:39:00.768243Z"
    }
   },
   "outputs": [],
   "source": [
    "viz.country_recipes()"
   ]
  },
  {
   "cell_type": "markdown",
   "metadata": {
    "ExecuteTime": {
     "end_time": "2021-06-22T14:14:11.972332Z",
     "start_time": "2021-06-22T14:14:11.939695Z"
    }
   },
   "source": [
    "Il y a 20 types de cuisines différentes. Les plus représentées sont Italiennes, Mexicaines et Southern US\n",
    "\n",
    "Ces catégories sont sur représentées par rapport aux autres cuisines"
   ]
  },
  {
   "cell_type": "markdown",
   "metadata": {},
   "source": [
    "### Représentation graphiques des principaux ingrédients par type de cuisine"
   ]
  },
  {
   "cell_type": "code",
   "execution_count": null,
   "metadata": {
    "ExecuteTime": {
     "end_time": "2021-06-23T07:39:32.755611Z",
     "start_time": "2021-06-23T07:39:05.251424Z"
    }
   },
   "outputs": [],
   "source": [
    "viz.nb_ingredients_by_country()"
   ]
  },
  {
   "cell_type": "markdown",
   "metadata": {},
   "source": [
    "1. On remarque que certains ingrédients sont représentés dans toutes les cuisines (sel ...) \n",
    "2. De plus certaines type de cuisine ont des ingrédients distinctifs (fish sauce, soya sauce pour la thailande et la chine...)"
   ]
  },
  {
   "cell_type": "markdown",
   "metadata": {},
   "source": [
    "## Preprocessing"
   ]
  },
  {
   "cell_type": "markdown",
   "metadata": {},
   "source": [
    "Création d'un objet cook contenant : \n",
    "\n",
    "1. **un preprocessing :** \n",
    "\n",
    "    1. Un Regex permettant de nettoyer le jeu de données de toutes les lignes comprenant des caractères spéciaux ( chiffres, . ou autre...) \n",
    "    2. A partir de la bibliotheque nltk, application de l'outil pos tag permettant l'étiquetage **morpho syntaxique** puis conservation des : noms, adverbes et verbes. \n",
    "    3. Application d'un multilabelizer permettant de créer des features basées sur les listes d'ingrédients néttoyées.\n",
    "    \n",
    "2. **une modélisation :** \n",
    "    1. Des modèles à tester (SVC, Logistic Regression...)\n",
    "    2. Optimisation des parametres (random search...)\n",
    "    3. Ensemble learning (Stacking, Boosting...)\n",
    "    \n",
    "    \n",
    "Sans application des Regex et du pos tag,le preprocessing créait 6700 features, 6400 avec les Regex, puis 4000 avec pos tag"
   ]
  },
  {
   "cell_type": "markdown",
   "metadata": {},
   "source": [
    "## Test de la performance d'un modèle SVC \n",
    "\n",
    "Nous avons utilisé un TrainTest Split et non pas une cross validation pour évaluer nos résultats"
   ]
  },
  {
   "cell_type": "markdown",
   "metadata": {},
   "source": [
    "### SVC"
   ]
  },
  {
   "cell_type": "code",
   "execution_count": null,
   "metadata": {
    "ExecuteTime": {
     "end_time": "2021-06-23T07:37:51.773673Z",
     "start_time": "2021-06-23T07:37:37.996Z"
    }
   },
   "outputs": [],
   "source": [
    "SVC_cook = Cook('train.json')"
   ]
  },
  {
   "cell_type": "code",
   "execution_count": null,
   "metadata": {
    "ExecuteTime": {
     "end_time": "2021-06-23T07:37:51.776671Z",
     "start_time": "2021-06-23T07:37:38.001Z"
    }
   },
   "outputs": [],
   "source": [
    "SVC_cook.mega_linearSVC()"
   ]
  },
  {
   "cell_type": "markdown",
   "metadata": {},
   "source": [
    "**Interpretation du résultat :** \n",
    "Nous avons une accuracy de 76% (comparaison de nos prédictions vs. données test). Cette métrique est celle utilisée dans le challenge Kaggle. \n",
    "\n",
    "Cela signifie que 76% des valeures prédites sont correctes. "
   ]
  },
  {
   "cell_type": "markdown",
   "metadata": {},
   "source": [
    "### SGD"
   ]
  },
  {
   "cell_type": "code",
   "execution_count": null,
   "metadata": {
    "ExecuteTime": {
     "end_time": "2021-06-23T07:37:51.778666Z",
     "start_time": "2021-06-23T07:37:38.260Z"
    }
   },
   "outputs": [],
   "source": [
    "SGD_cook = Cook('train.json')"
   ]
  },
  {
   "cell_type": "code",
   "execution_count": null,
   "metadata": {
    "ExecuteTime": {
     "end_time": "2021-06-23T07:37:51.781657Z",
     "start_time": "2021-06-23T07:37:38.264Z"
    },
    "scrolled": true
   },
   "outputs": [],
   "source": [
    "SGD_cook.mega_SGDClassifier()"
   ]
  },
  {
   "cell_type": "markdown",
   "metadata": {
    "ExecuteTime": {
     "end_time": "2021-06-22T14:32:45.510333Z",
     "start_time": "2021-06-22T14:32:45.498531Z"
    }
   },
   "source": [
    "Interpretation du résultat : Nous avons une accuracy de 77,6%. Le résultat est amélioré de 1% "
   ]
  },
  {
   "cell_type": "markdown",
   "metadata": {},
   "source": [
    "### Logistic Regression"
   ]
  },
  {
   "cell_type": "code",
   "execution_count": 2,
   "metadata": {
    "ExecuteTime": {
     "end_time": "2021-06-23T11:50:08.774729Z",
     "start_time": "2021-06-23T11:50:08.295269Z"
    }
   },
   "outputs": [],
   "source": [
    "logistic_cook = Cook('train.json')"
   ]
  },
  {
   "cell_type": "code",
   "execution_count": 3,
   "metadata": {
    "ExecuteTime": {
     "end_time": "2021-06-23T11:50:13.052135Z",
     "start_time": "2021-06-23T11:50:10.487923Z"
    }
   },
   "outputs": [
    {
     "ename": "ValueError",
     "evalue": "Logistic Regression supports only penalties in ['l1', 'l2', 'elasticnet', 'none'], got .",
     "output_type": "error",
     "traceback": [
      "\u001b[0;31m---------------------------------------------------------------------------\u001b[0m",
      "\u001b[0;31mValueError\u001b[0m                                Traceback (most recent call last)",
      "\u001b[0;32m<ipython-input-3-8afb04c1968b>\u001b[0m in \u001b[0;36m<module>\u001b[0;34m\u001b[0m\n\u001b[0;32m----> 1\u001b[0;31m \u001b[0mlogistic_cook\u001b[0m\u001b[0;34m.\u001b[0m\u001b[0mmega_LogisticRegression\u001b[0m\u001b[0;34m(\u001b[0m\u001b[0;34m)\u001b[0m\u001b[0;34m\u001b[0m\u001b[0;34m\u001b[0m\u001b[0m\n\u001b[0m",
      "\u001b[0;32m~/Desktop/IA/31_Brief_Cooking/what-s-cooking-brief/model.py\u001b[0m in \u001b[0;36mmega_LogisticRegression\u001b[0;34m(self, best_params)\u001b[0m\n\u001b[1;32m    222\u001b[0m \u001b[0;34m\u001b[0m\u001b[0m\n\u001b[1;32m    223\u001b[0m         \u001b[0;31m# model_fit\u001b[0m\u001b[0;34m\u001b[0m\u001b[0;34m\u001b[0m\u001b[0;34m\u001b[0m\u001b[0m\n\u001b[0;32m--> 224\u001b[0;31m         \u001b[0mself\u001b[0m\u001b[0;34m.\u001b[0m\u001b[0mmodel_fit\u001b[0m\u001b[0;34m(\u001b[0m\u001b[0mself\u001b[0m\u001b[0;34m.\u001b[0m\u001b[0mX_train\u001b[0m\u001b[0;34m,\u001b[0m \u001b[0mself\u001b[0m\u001b[0;34m.\u001b[0m\u001b[0my_train\u001b[0m\u001b[0;34m)\u001b[0m\u001b[0;34m\u001b[0m\u001b[0;34m\u001b[0m\u001b[0m\n\u001b[0m\u001b[1;32m    225\u001b[0m \u001b[0;34m\u001b[0m\u001b[0m\n\u001b[1;32m    226\u001b[0m         \u001b[0;31m# model_predict\u001b[0m\u001b[0;34m\u001b[0m\u001b[0;34m\u001b[0m\u001b[0;34m\u001b[0m\u001b[0m\n",
      "\u001b[0;32m~/Desktop/IA/31_Brief_Cooking/what-s-cooking-brief/model.py\u001b[0m in \u001b[0;36mmodel_fit\u001b[0;34m(self, X_train, y_train)\u001b[0m\n\u001b[1;32m     56\u001b[0m \u001b[0;34m\u001b[0m\u001b[0m\n\u001b[1;32m     57\u001b[0m     \u001b[0;32mdef\u001b[0m \u001b[0mmodel_fit\u001b[0m\u001b[0;34m(\u001b[0m\u001b[0mself\u001b[0m\u001b[0;34m,\u001b[0m \u001b[0mX_train\u001b[0m\u001b[0;34m,\u001b[0m \u001b[0my_train\u001b[0m\u001b[0;34m)\u001b[0m\u001b[0;34m:\u001b[0m\u001b[0;34m\u001b[0m\u001b[0;34m\u001b[0m\u001b[0m\n\u001b[0;32m---> 58\u001b[0;31m         \u001b[0mself\u001b[0m\u001b[0;34m.\u001b[0m\u001b[0mmodel_fit\u001b[0m \u001b[0;34m=\u001b[0m \u001b[0mself\u001b[0m\u001b[0;34m.\u001b[0m\u001b[0mmodel\u001b[0m\u001b[0;34m.\u001b[0m\u001b[0mfit\u001b[0m\u001b[0;34m(\u001b[0m\u001b[0mX_train\u001b[0m\u001b[0;34m,\u001b[0m \u001b[0my_train\u001b[0m\u001b[0;34m)\u001b[0m\u001b[0;34m\u001b[0m\u001b[0;34m\u001b[0m\u001b[0m\n\u001b[0m\u001b[1;32m     59\u001b[0m \u001b[0;34m\u001b[0m\u001b[0m\n\u001b[1;32m     60\u001b[0m     \u001b[0;32mdef\u001b[0m \u001b[0mmodel_predict\u001b[0m\u001b[0;34m(\u001b[0m\u001b[0mself\u001b[0m\u001b[0;34m,\u001b[0m \u001b[0mX_test\u001b[0m\u001b[0;34m)\u001b[0m\u001b[0;34m:\u001b[0m\u001b[0;34m\u001b[0m\u001b[0;34m\u001b[0m\u001b[0m\n",
      "\u001b[0;32m~/opt/anaconda3/lib/python3.8/site-packages/sklearn/linear_model/_logistic.py\u001b[0m in \u001b[0;36mfit\u001b[0;34m(self, X, y, sample_weight)\u001b[0m\n\u001b[1;32m   1304\u001b[0m         \u001b[0mThe\u001b[0m \u001b[0mSAGA\u001b[0m \u001b[0msolver\u001b[0m \u001b[0msupports\u001b[0m \u001b[0mboth\u001b[0m \u001b[0mfloat64\u001b[0m \u001b[0;32mand\u001b[0m \u001b[0mfloat32\u001b[0m \u001b[0mbit\u001b[0m \u001b[0marrays\u001b[0m\u001b[0;34m.\u001b[0m\u001b[0;34m\u001b[0m\u001b[0;34m\u001b[0m\u001b[0m\n\u001b[1;32m   1305\u001b[0m         \"\"\"\n\u001b[0;32m-> 1306\u001b[0;31m         \u001b[0msolver\u001b[0m \u001b[0;34m=\u001b[0m \u001b[0m_check_solver\u001b[0m\u001b[0;34m(\u001b[0m\u001b[0mself\u001b[0m\u001b[0;34m.\u001b[0m\u001b[0msolver\u001b[0m\u001b[0;34m,\u001b[0m \u001b[0mself\u001b[0m\u001b[0;34m.\u001b[0m\u001b[0mpenalty\u001b[0m\u001b[0;34m,\u001b[0m \u001b[0mself\u001b[0m\u001b[0;34m.\u001b[0m\u001b[0mdual\u001b[0m\u001b[0;34m)\u001b[0m\u001b[0;34m\u001b[0m\u001b[0;34m\u001b[0m\u001b[0m\n\u001b[0m\u001b[1;32m   1307\u001b[0m \u001b[0;34m\u001b[0m\u001b[0m\n\u001b[1;32m   1308\u001b[0m         \u001b[0;32mif\u001b[0m \u001b[0;32mnot\u001b[0m \u001b[0misinstance\u001b[0m\u001b[0;34m(\u001b[0m\u001b[0mself\u001b[0m\u001b[0;34m.\u001b[0m\u001b[0mC\u001b[0m\u001b[0;34m,\u001b[0m \u001b[0mnumbers\u001b[0m\u001b[0;34m.\u001b[0m\u001b[0mNumber\u001b[0m\u001b[0;34m)\u001b[0m \u001b[0;32mor\u001b[0m \u001b[0mself\u001b[0m\u001b[0;34m.\u001b[0m\u001b[0mC\u001b[0m \u001b[0;34m<\u001b[0m \u001b[0;36m0\u001b[0m\u001b[0;34m:\u001b[0m\u001b[0;34m\u001b[0m\u001b[0;34m\u001b[0m\u001b[0m\n",
      "\u001b[0;32m~/opt/anaconda3/lib/python3.8/site-packages/sklearn/linear_model/_logistic.py\u001b[0m in \u001b[0;36m_check_solver\u001b[0;34m(solver, penalty, dual)\u001b[0m\n\u001b[1;32m    437\u001b[0m     \u001b[0mall_penalties\u001b[0m \u001b[0;34m=\u001b[0m \u001b[0;34m[\u001b[0m\u001b[0;34m'l1'\u001b[0m\u001b[0;34m,\u001b[0m \u001b[0;34m'l2'\u001b[0m\u001b[0;34m,\u001b[0m \u001b[0;34m'elasticnet'\u001b[0m\u001b[0;34m,\u001b[0m \u001b[0;34m'none'\u001b[0m\u001b[0;34m]\u001b[0m\u001b[0;34m\u001b[0m\u001b[0;34m\u001b[0m\u001b[0m\n\u001b[1;32m    438\u001b[0m     \u001b[0;32mif\u001b[0m \u001b[0mpenalty\u001b[0m \u001b[0;32mnot\u001b[0m \u001b[0;32min\u001b[0m \u001b[0mall_penalties\u001b[0m\u001b[0;34m:\u001b[0m\u001b[0;34m\u001b[0m\u001b[0;34m\u001b[0m\u001b[0m\n\u001b[0;32m--> 439\u001b[0;31m         raise ValueError(\"Logistic Regression supports only penalties in %s,\"\n\u001b[0m\u001b[1;32m    440\u001b[0m                          \" got %s.\" % (all_penalties, penalty))\n\u001b[1;32m    441\u001b[0m \u001b[0;34m\u001b[0m\u001b[0m\n",
      "\u001b[0;31mValueError\u001b[0m: Logistic Regression supports only penalties in ['l1', 'l2', 'elasticnet', 'none'], got ."
     ]
    }
   ],
   "source": [
    "logistic_cook.mega_LogisticRegression()"
   ]
  },
  {
   "cell_type": "markdown",
   "metadata": {},
   "source": [
    "Résultat équivalent à SGD Regressor"
   ]
  },
  {
   "cell_type": "markdown",
   "metadata": {},
   "source": [
    "### K neighborsClassifier\n",
    "\n",
    "La performance du modele est impactée par le nombre important de features"
   ]
  },
  {
   "cell_type": "code",
   "execution_count": null,
   "metadata": {
    "ExecuteTime": {
     "end_time": "2021-06-23T07:37:51.790189Z",
     "start_time": "2021-06-23T07:37:38.815Z"
    }
   },
   "outputs": [],
   "source": [
    "Kneigh_cook = Cook('train.json')"
   ]
  },
  {
   "cell_type": "code",
   "execution_count": null,
   "metadata": {
    "ExecuteTime": {
     "end_time": "2021-06-23T07:37:51.792185Z",
     "start_time": "2021-06-23T07:37:38.820Z"
    }
   },
   "outputs": [],
   "source": [
    "Kneigh_cook.mega_KNeighborsClassifier()"
   ]
  },
  {
   "cell_type": "markdown",
   "metadata": {},
   "source": [
    "## Random search on logistic regression \n",
    "L'objectif est d'optimiser les parametres du meilleur modele (Logistic Regression)"
   ]
  },
  {
   "cell_type": "code",
   "execution_count": null,
   "metadata": {
    "ExecuteTime": {
     "end_time": "2021-06-23T10:31:28.427482Z",
     "start_time": "2021-06-23T10:31:28.053883Z"
    }
   },
   "outputs": [],
   "source": [
    "randomize_cook = Cook('train.json')"
   ]
  },
  {
   "cell_type": "code",
   "execution_count": null,
   "metadata": {
    "ExecuteTime": {
     "end_time": "2021-06-23T10:36:37.292903Z",
     "start_time": "2021-06-23T10:31:30.359949Z"
    }
   },
   "outputs": [],
   "source": [
    "randomize_cook.randomize_training()"
   ]
  },
  {
   "cell_type": "markdown",
   "metadata": {},
   "source": [
    "### Relance du modele avec les bests param"
   ]
  },
  {
   "cell_type": "code",
   "execution_count": null,
   "metadata": {
    "ExecuteTime": {
     "start_time": "2021-06-23T09:13:59.223Z"
    }
   },
   "outputs": [],
   "source": [
    "logistic_cook = Cook('train.json')"
   ]
  },
  {
   "cell_type": "code",
   "execution_count": null,
   "metadata": {
    "ExecuteTime": {
     "end_time": "2021-06-23T07:37:51.787374Z",
     "start_time": "2021-06-23T07:37:38.537Z"
    }
   },
   "outputs": [],
   "source": [
    "logistic_cook.mega_LogisticRegression(randomize_cook.best_params)"
   ]
  },
  {
   "cell_type": "markdown",
   "metadata": {},
   "source": [
    "## Test des ensembles Learning pour améliorer le modèle\n",
    "\n",
    "### Gradient Boosting"
   ]
  },
  {
   "cell_type": "code",
   "execution_count": null,
   "metadata": {
    "ExecuteTime": {
     "end_time": "2021-06-23T09:22:58.630324Z",
     "start_time": "2021-06-23T09:22:57.465311Z"
    }
   },
   "outputs": [],
   "source": [
    "Gradient_boost_cook = Cook('train.json')"
   ]
  },
  {
   "cell_type": "code",
   "execution_count": null,
   "metadata": {
    "ExecuteTime": {
     "start_time": "2021-06-23T09:22:50.399Z"
    }
   },
   "outputs": [],
   "source": [
    "Gradient_boost_cook.mega_GradientBoostingClassifier()"
   ]
  },
  {
   "cell_type": "markdown",
   "metadata": {},
   "source": [
    "### Adaboost"
   ]
  },
  {
   "cell_type": "code",
   "execution_count": null,
   "metadata": {
    "ExecuteTime": {
     "end_time": "2021-06-23T07:37:51.804013Z",
     "start_time": "2021-06-23T07:37:39.244Z"
    }
   },
   "outputs": [],
   "source": [
    "adaboost_cook = Cook('train.json')"
   ]
  },
  {
   "cell_type": "code",
   "execution_count": null,
   "metadata": {
    "ExecuteTime": {
     "end_time": "2021-06-23T07:37:51.805694Z",
     "start_time": "2021-06-23T07:37:39.248Z"
    }
   },
   "outputs": [],
   "source": [
    "adaboost_cook.mega_AdaBoostClassifier()"
   ]
  },
  {
   "cell_type": "markdown",
   "metadata": {},
   "source": [
    "### Stacking "
   ]
  },
  {
   "cell_type": "code",
   "execution_count": null,
   "metadata": {
    "ExecuteTime": {
     "end_time": "2021-06-23T07:37:51.811202Z",
     "start_time": "2021-06-23T07:37:39.521Z"
    }
   },
   "outputs": [],
   "source": [
    "#Stacking_cook = Cook('train.json')"
   ]
  },
  {
   "cell_type": "code",
   "execution_count": null,
   "metadata": {
    "ExecuteTime": {
     "end_time": "2021-06-23T07:37:51.812676Z",
     "start_time": "2021-06-23T07:37:39.525Z"
    }
   },
   "outputs": [],
   "source": [
    "#Stacking_cook.stacking_training()"
   ]
  },
  {
   "cell_type": "markdown",
   "metadata": {},
   "source": [
    "## Prediction "
   ]
  },
  {
   "cell_type": "code",
   "execution_count": null,
   "metadata": {
    "ExecuteTime": {
     "end_time": "2021-06-23T07:37:51.818217Z",
     "start_time": "2021-06-23T07:37:39.697Z"
    }
   },
   "outputs": [],
   "source": [
    "#final_model = Prediction('train.json')"
   ]
  },
  {
   "cell_type": "code",
   "execution_count": null,
   "metadata": {
    "ExecuteTime": {
     "end_time": "2021-06-23T07:37:51.821071Z",
     "start_time": "2021-06-23T07:37:39.703Z"
    }
   },
   "outputs": [],
   "source": [
    "final_model.mega_process('test.json',randomize_cook.best_params)"
   ]
  },
  {
   "cell_type": "code",
   "execution_count": null,
   "metadata": {},
   "outputs": [],
   "source": []
  }
 ],
 "metadata": {
  "interpreter": {
   "hash": "ecf05938588f258119a705e35a90285d1782fad5b5526111bb46690071f255de"
  },
  "kernelspec": {
   "display_name": "Python 3",
   "language": "python",
   "name": "python3"
  },
  "language_info": {
   "codemirror_mode": {
    "name": "ipython",
    "version": 3
   },
   "file_extension": ".py",
   "mimetype": "text/x-python",
   "name": "python",
   "nbconvert_exporter": "python",
   "pygments_lexer": "ipython3",
   "version": "3.8.10"
  },
  "latex_envs": {
   "LaTeX_envs_menu_present": true,
   "autoclose": false,
   "autocomplete": true,
   "bibliofile": "biblio.bib",
   "cite_by": "apalike",
   "current_citInitial": 1,
   "eqLabelWithNumbers": true,
   "eqNumInitial": 1,
   "hotkeys": {
    "equation": "Ctrl-E",
    "itemize": "Ctrl-I"
   },
   "labels_anchors": false,
   "latex_user_defs": false,
   "report_style_numbering": false,
   "user_envs_cfg": false
  },
  "toc": {
   "base_numbering": 1,
   "nav_menu": {},
   "number_sections": false,
   "sideBar": true,
   "skip_h1_title": false,
   "title_cell": "Table of Contents",
   "title_sidebar": "Contents",
   "toc_cell": false,
   "toc_position": {
    "height": "calc(100% - 180px)",
    "left": "10px",
    "top": "150px",
    "width": "320px"
   },
   "toc_section_display": true,
   "toc_window_display": true
  },
  "varInspector": {
   "cols": {
    "lenName": 16,
    "lenType": 16,
    "lenVar": 40
   },
   "kernels_config": {
    "python": {
     "delete_cmd_postfix": "",
     "delete_cmd_prefix": "del ",
     "library": "var_list.py",
     "varRefreshCmd": "print(var_dic_list())"
    },
    "r": {
     "delete_cmd_postfix": ") ",
     "delete_cmd_prefix": "rm(",
     "library": "var_list.r",
     "varRefreshCmd": "cat(var_dic_list()) "
    }
   },
   "types_to_exclude": [
    "module",
    "function",
    "builtin_function_or_method",
    "instance",
    "_Feature"
   ],
   "window_display": false
  }
 },
 "nbformat": 4,
 "nbformat_minor": 4
}
