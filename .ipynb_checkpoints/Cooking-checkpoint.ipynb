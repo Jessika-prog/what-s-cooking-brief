{
 "cells": [
  {
   "cell_type": "markdown",
   "metadata": {},
   "source": [
    "# What's Cooking"
   ]
  },
  {
   "cell_type": "code",
   "execution_count": 1,
   "metadata": {
    "ExecuteTime": {
     "end_time": "2021-06-22T09:31:14.326006Z",
     "start_time": "2021-06-22T09:31:07.881561Z"
    }
   },
   "outputs": [
    {
     "ename": "SyntaxError",
     "evalue": "invalid syntax (model.py, line 187)",
     "output_type": "error",
     "traceback": [
      "Traceback \u001b[0;36m(most recent call last)\u001b[0m:\n",
      "  File \u001b[1;32m\"/Users/baguidou/opt/anaconda3/lib/python3.8/site-packages/IPython/core/interactiveshell.py\"\u001b[0m, line \u001b[1;32m3437\u001b[0m, in \u001b[1;35mrun_code\u001b[0m\n    exec(code_obj, self.user_global_ns, self.user_ns)\n",
      "\u001b[0;36m  File \u001b[0;32m\"<ipython-input-1-581e1d9d90f8>\"\u001b[0;36m, line \u001b[0;32m2\u001b[0;36m, in \u001b[0;35m<module>\u001b[0;36m\u001b[0m\n\u001b[0;31m    from model import Cook\u001b[0m\n",
      "\u001b[0;36m  File \u001b[0;32m\"/Users/baguidou/Desktop/IA/31_Brief_Cooking/what-s-cooking-brief/model.py\"\u001b[0;36m, line \u001b[0;32m187\u001b[0m\n\u001b[0;31m    self.multilab = MultiLabelBinarizer()\u001b[0m\n\u001b[0m    ^\u001b[0m\n\u001b[0;31mSyntaxError\u001b[0m\u001b[0;31m:\u001b[0m invalid syntax\n"
     ]
    }
   ],
   "source": [
    "from vizualisation import Vizualisation\n",
    "from model import Cook\n",
    "from prediction import Prediction\n"
   ]
  },
  {
   "cell_type": "code",
   "execution_count": null,
   "metadata": {
    "ExecuteTime": {
     "end_time": "2021-06-22T09:31:14.543364Z",
     "start_time": "2021-06-22T09:31:07.784Z"
    }
   },
   "outputs": [],
   "source": [
    "#viz = Vizualisation('train.json')"
   ]
  },
  {
   "cell_type": "code",
   "execution_count": null,
   "metadata": {
    "ExecuteTime": {
     "end_time": "2021-06-22T09:31:14.548100Z",
     "start_time": "2021-06-22T09:31:07.787Z"
    }
   },
   "outputs": [],
   "source": [
    "#viz.df_info()"
   ]
  },
  {
   "cell_type": "code",
   "execution_count": null,
   "metadata": {
    "ExecuteTime": {
     "end_time": "2021-06-22T09:31:14.550772Z",
     "start_time": "2021-06-22T09:31:07.790Z"
    }
   },
   "outputs": [],
   "source": [
    "#viz.nb_ingredients_by_recipes()"
   ]
  },
  {
   "cell_type": "code",
   "execution_count": null,
   "metadata": {
    "ExecuteTime": {
     "end_time": "2021-06-22T09:31:14.554002Z",
     "start_time": "2021-06-22T09:31:07.793Z"
    }
   },
   "outputs": [],
   "source": [
    "#viz.country_recipes()"
   ]
  },
  {
   "cell_type": "code",
   "execution_count": null,
   "metadata": {
    "ExecuteTime": {
     "end_time": "2021-06-22T09:31:14.558732Z",
     "start_time": "2021-06-22T09:31:07.796Z"
    }
   },
   "outputs": [],
   "source": [
    "#viz.nb_ingredients_by_country()"
   ]
  },
  {
   "cell_type": "code",
   "execution_count": null,
   "metadata": {
    "ExecuteTime": {
     "end_time": "2021-06-22T09:31:14.572291Z",
     "start_time": "2021-06-22T09:31:07.799Z"
    }
   },
   "outputs": [],
   "source": [
    "#cook = Cook('train.json')"
   ]
  },
  {
   "cell_type": "code",
   "execution_count": null,
   "metadata": {
    "ExecuteTime": {
     "end_time": "2021-06-22T09:31:14.609423Z",
     "start_time": "2021-06-22T09:31:07.803Z"
    }
   },
   "outputs": [],
   "source": [
    "#cook.mega_linearSVC()"
   ]
  },
  {
   "cell_type": "code",
   "execution_count": null,
   "metadata": {
    "ExecuteTime": {
     "end_time": "2021-06-22T09:31:14.650516Z",
     "start_time": "2021-06-22T09:31:07.809Z"
    }
   },
   "outputs": [],
   "source": [
    "#cook = Cook('train.json')"
   ]
  },
  {
   "cell_type": "code",
   "execution_count": null,
   "metadata": {
    "ExecuteTime": {
     "end_time": "2021-06-22T09:31:14.717853Z",
     "start_time": "2021-06-22T09:31:07.817Z"
    }
   },
   "outputs": [],
   "source": [
    "#cook.mega_SGDClassifier()"
   ]
  },
  {
   "cell_type": "code",
   "execution_count": null,
   "metadata": {
    "ExecuteTime": {
     "end_time": "2021-06-22T09:31:14.735374Z",
     "start_time": "2021-06-22T09:31:07.828Z"
    }
   },
   "outputs": [],
   "source": [
    "#cook = Cook('train.json')"
   ]
  },
  {
   "cell_type": "code",
   "execution_count": null,
   "metadata": {
    "ExecuteTime": {
     "end_time": "2021-06-22T09:31:14.744653Z",
     "start_time": "2021-06-22T09:31:07.832Z"
    }
   },
   "outputs": [],
   "source": [
    "#cook.mega_KNeighborsClassifier()"
   ]
  },
  {
   "cell_type": "code",
   "execution_count": null,
   "metadata": {
    "ExecuteTime": {
     "end_time": "2021-06-22T09:31:14.756441Z",
     "start_time": "2021-06-22T09:31:07.836Z"
    }
   },
   "outputs": [],
   "source": [
    "#cook = Cook('train.json')"
   ]
  },
  {
   "cell_type": "code",
   "execution_count": null,
   "metadata": {
    "ExecuteTime": {
     "end_time": "2021-06-22T09:31:14.768319Z",
     "start_time": "2021-06-22T09:31:07.843Z"
    }
   },
   "outputs": [],
   "source": [
    "#cook.mega_LogisticRegression()"
   ]
  },
  {
   "cell_type": "code",
   "execution_count": null,
   "metadata": {
    "ExecuteTime": {
     "end_time": "2021-06-22T09:31:14.776454Z",
     "start_time": "2021-06-22T09:31:07.847Z"
    }
   },
   "outputs": [],
   "source": [
    "#cook = Cook('train.json')"
   ]
  },
  {
   "cell_type": "code",
   "execution_count": null,
   "metadata": {
    "ExecuteTime": {
     "end_time": "2021-06-22T09:31:14.788788Z",
     "start_time": "2021-06-22T09:31:07.851Z"
    }
   },
   "outputs": [],
   "source": [
    "#cook.mega_training()"
   ]
  },
  {
   "cell_type": "code",
   "execution_count": null,
   "metadata": {
    "ExecuteTime": {
     "end_time": "2021-06-22T09:31:14.801385Z",
     "start_time": "2021-06-22T09:31:07.854Z"
    }
   },
   "outputs": [],
   "source": [
    "cook = Cook('train.json')"
   ]
  },
  {
   "cell_type": "code",
   "execution_count": null,
   "metadata": {
    "ExecuteTime": {
     "end_time": "2021-06-22T09:31:14.805291Z",
     "start_time": "2021-06-22T09:31:07.860Z"
    }
   },
   "outputs": [],
   "source": [
    "cook.stacking_training()"
   ]
  },
  {
   "cell_type": "code",
   "execution_count": null,
   "metadata": {
    "ExecuteTime": {
     "end_time": "2021-06-22T09:31:14.814601Z",
     "start_time": "2021-06-22T09:31:07.865Z"
    }
   },
   "outputs": [],
   "source": [
    "#import nltk\n",
    "#nltk.download()"
   ]
  },
  {
   "cell_type": "code",
   "execution_count": null,
   "metadata": {
    "ExecuteTime": {
     "end_time": "2021-06-22T09:31:14.819158Z",
     "start_time": "2021-06-22T09:31:07.867Z"
    }
   },
   "outputs": [],
   "source": [
    "#cook.randomize_training()"
   ]
  },
  {
   "cell_type": "code",
   "execution_count": null,
   "metadata": {
    "ExecuteTime": {
     "end_time": "2021-06-22T09:31:14.822316Z",
     "start_time": "2021-06-22T09:31:07.874Z"
    }
   },
   "outputs": [],
   "source": [
    "#final_model = Prediction('train.json')"
   ]
  },
  {
   "cell_type": "code",
   "execution_count": null,
   "metadata": {
    "ExecuteTime": {
     "end_time": "2021-06-22T09:31:14.827102Z",
     "start_time": "2021-06-22T09:31:07.881Z"
    }
   },
   "outputs": [],
   "source": [
    "#final_model.mega_process('test.json')"
   ]
  },
  {
   "cell_type": "code",
   "execution_count": null,
   "metadata": {},
   "outputs": [],
   "source": []
  }
 ],
 "metadata": {
  "interpreter": {
   "hash": "ecf05938588f258119a705e35a90285d1782fad5b5526111bb46690071f255de"
  },
  "kernelspec": {
   "display_name": "Python 3",
   "language": "python",
   "name": "python3"
  },
  "language_info": {
   "codemirror_mode": {
    "name": "ipython",
    "version": 3
   },
   "file_extension": ".py",
   "mimetype": "text/x-python",
   "name": "python",
   "nbconvert_exporter": "python",
   "pygments_lexer": "ipython3",
   "version": "3.8.10"
  },
  "toc": {
   "base_numbering": 1,
   "nav_menu": {},
   "number_sections": false,
   "sideBar": true,
   "skip_h1_title": false,
   "title_cell": "Table of Contents",
   "title_sidebar": "Contents",
   "toc_cell": false,
   "toc_position": {},
   "toc_section_display": true,
   "toc_window_display": false
  },
  "varInspector": {
   "cols": {
    "lenName": 16,
    "lenType": 16,
    "lenVar": 40
   },
   "kernels_config": {
    "python": {
     "delete_cmd_postfix": "",
     "delete_cmd_prefix": "del ",
     "library": "var_list.py",
     "varRefreshCmd": "print(var_dic_list())"
    },
    "r": {
     "delete_cmd_postfix": ") ",
     "delete_cmd_prefix": "rm(",
     "library": "var_list.r",
     "varRefreshCmd": "cat(var_dic_list()) "
    }
   },
   "types_to_exclude": [
    "module",
    "function",
    "builtin_function_or_method",
    "instance",
    "_Feature"
   ],
   "window_display": false
  }
 },
 "nbformat": 4,
 "nbformat_minor": 4
}
