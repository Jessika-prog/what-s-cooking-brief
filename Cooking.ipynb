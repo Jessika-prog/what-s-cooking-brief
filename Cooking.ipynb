{
 "cells": [
  {
   "cell_type": "markdown",
   "metadata": {},
   "source": [
    "# What's Cooking"
   ]
  },
  {
   "cell_type": "code",
   "execution_count": 1,
   "metadata": {
    "ExecuteTime": {
     "end_time": "2021-06-22T09:53:14.457339Z",
     "start_time": "2021-06-22T09:53:08.374781Z"
    }
   },
   "outputs": [],
   "source": [
    "from vizualisation import Vizualisation\n",
    "from model import Cook\n",
    "from prediction import Prediction\n"
   ]
  },
  {
   "cell_type": "code",
   "execution_count": 2,
   "metadata": {
    "ExecuteTime": {
     "end_time": "2021-06-22T09:53:14.493476Z",
     "start_time": "2021-06-22T09:53:14.464289Z"
    }
   },
   "outputs": [],
   "source": [
    "#viz = Vizualisation('train.json')"
   ]
  },
  {
   "cell_type": "code",
   "execution_count": 3,
   "metadata": {
    "ExecuteTime": {
     "end_time": "2021-06-22T09:53:14.542133Z",
     "start_time": "2021-06-22T09:53:14.515863Z"
    }
   },
   "outputs": [],
   "source": [
    "#viz.df_info()"
   ]
  },
  {
   "cell_type": "code",
   "execution_count": 4,
   "metadata": {
    "ExecuteTime": {
     "end_time": "2021-06-22T09:53:14.563899Z",
     "start_time": "2021-06-22T09:53:14.549326Z"
    }
   },
   "outputs": [],
   "source": [
    "#viz.nb_ingredients_by_recipes()"
   ]
  },
  {
   "cell_type": "code",
   "execution_count": 5,
   "metadata": {
    "ExecuteTime": {
     "end_time": "2021-06-22T09:53:14.607386Z",
     "start_time": "2021-06-22T09:53:14.581866Z"
    }
   },
   "outputs": [],
   "source": [
    "#viz.country_recipes()"
   ]
  },
  {
   "cell_type": "code",
   "execution_count": 6,
   "metadata": {
    "ExecuteTime": {
     "end_time": "2021-06-22T09:53:14.620204Z",
     "start_time": "2021-06-22T09:53:14.614626Z"
    }
   },
   "outputs": [],
   "source": [
    "#viz.nb_ingredients_by_country()"
   ]
  },
  {
   "cell_type": "code",
   "execution_count": 7,
   "metadata": {
    "ExecuteTime": {
     "end_time": "2021-06-22T09:53:15.162293Z",
     "start_time": "2021-06-22T09:53:14.630689Z"
    }
   },
   "outputs": [],
   "source": [
    "cook = Cook('train.json')"
   ]
  },
  {
   "cell_type": "code",
   "execution_count": 8,
   "metadata": {
    "ExecuteTime": {
     "end_time": "2021-06-22T09:53:36.774990Z",
     "start_time": "2021-06-22T09:53:15.169078Z"
    }
   },
   "outputs": [
    {
     "data": {
      "text/plain": [
       "array(['chinese', 'spanish', 'greek', ..., 'southern_us', 'indian',\n",
       "       'italian'], dtype=object)"
      ]
     },
     "metadata": {},
     "output_type": "display_data"
    },
    {
     "name": "stdout",
     "output_type": "stream",
     "text": [
      "0.761694347097364\n"
     ]
    }
   ],
   "source": [
    "cook.mega_linearSVC()"
   ]
  },
  {
   "cell_type": "code",
   "execution_count": 9,
   "metadata": {
    "ExecuteTime": {
     "end_time": "2021-06-22T09:53:38.209429Z",
     "start_time": "2021-06-22T09:53:36.789234Z"
    }
   },
   "outputs": [],
   "source": [
    "cook = Cook('train.json')"
   ]
  },
  {
   "cell_type": "code",
   "execution_count": 10,
   "metadata": {
    "ExecuteTime": {
     "end_time": "2021-06-22T09:55:17.583234Z",
     "start_time": "2021-06-22T09:53:38.214211Z"
    },
    "scrolled": true
   },
   "outputs": [
    {
     "data": {
      "text/plain": [
       "array(['chinese', 'spanish', 'greek', ..., 'southern_us', 'indian',\n",
       "       'italian'], dtype='<U12')"
      ]
     },
     "metadata": {},
     "output_type": "display_data"
    },
    {
     "name": "stdout",
     "output_type": "stream",
     "text": [
      "0.7758646960231601\n"
     ]
    }
   ],
   "source": [
    "cook.mega_SGDClassifier()"
   ]
  },
  {
   "cell_type": "code",
   "execution_count": 11,
   "metadata": {
    "ExecuteTime": {
     "end_time": "2021-06-22T09:55:17.623738Z",
     "start_time": "2021-06-22T09:55:17.599412Z"
    }
   },
   "outputs": [],
   "source": [
    "#cook = Cook('train.json')"
   ]
  },
  {
   "cell_type": "code",
   "execution_count": 12,
   "metadata": {
    "ExecuteTime": {
     "end_time": "2021-06-22T09:55:19.309695Z",
     "start_time": "2021-06-22T09:55:17.632215Z"
    }
   },
   "outputs": [],
   "source": [
    "#cook = Cook('train.json')"
   ]
  },
  {
   "cell_type": "code",
   "execution_count": 13,
   "metadata": {
    "ExecuteTime": {
     "end_time": "2021-06-22T09:57:31.501601Z",
     "start_time": "2021-06-22T09:55:19.313571Z"
    }
   },
   "outputs": [
    {
     "data": {
      "text/plain": [
       "array(['chinese', 'spanish', 'greek', ..., 'southern_us', 'indian',\n",
       "       'italian'], dtype=object)"
      ]
     },
     "metadata": {},
     "output_type": "display_data"
    },
    {
     "name": "stdout",
     "output_type": "stream",
     "text": [
      "0.7752552186500076\n"
     ]
    }
   ],
   "source": [
    "cook.mega_LogisticRegression()"
   ]
  },
  {
   "cell_type": "code",
   "execution_count": null,
   "metadata": {},
   "outputs": [],
   "source": [
    "cook = Cook('train.json')"
   ]
  },
  {
   "cell_type": "code",
   "execution_count": null,
   "metadata": {},
   "outputs": [],
   "source": [
    "cook.mega_GradientBoostingClassifier()"
   ]
  },
  {
   "cell_type": "code",
   "execution_count": 14,
   "metadata": {
    "ExecuteTime": {
     "end_time": "2021-06-22T09:57:31.532539Z",
     "start_time": "2021-06-22T09:57:31.519197Z"
    }
   },
   "outputs": [],
   "source": [
    "#cook.mega_KNeighborsClassifier()"
   ]
  },
  {
   "cell_type": "code",
   "execution_count": 15,
   "metadata": {
    "ExecuteTime": {
     "end_time": "2021-06-22T09:57:31.548295Z",
     "start_time": "2021-06-22T09:57:31.542859Z"
    }
   },
   "outputs": [],
   "source": [
    "#cook = Cook('train.json')"
   ]
  },
  {
   "cell_type": "code",
   "execution_count": 16,
   "metadata": {
    "ExecuteTime": {
     "end_time": "2021-06-22T09:57:31.556110Z",
     "start_time": "2021-06-22T09:57:31.551700Z"
    }
   },
   "outputs": [],
   "source": [
    "#cook.mega_training()"
   ]
  },
  {
   "cell_type": "code",
   "execution_count": 17,
   "metadata": {
    "ExecuteTime": {
     "end_time": "2021-06-22T09:57:31.570908Z",
     "start_time": "2021-06-22T09:57:31.563844Z"
    }
   },
   "outputs": [],
   "source": [
    "#cook = Cook('train.json')"
   ]
  },
  {
   "cell_type": "code",
   "execution_count": 18,
   "metadata": {
    "ExecuteTime": {
     "end_time": "2021-06-22T09:57:31.584789Z",
     "start_time": "2021-06-22T09:57:31.579556Z"
    }
   },
   "outputs": [],
   "source": [
    "#cook.stacking_training()"
   ]
  },
  {
   "cell_type": "code",
   "execution_count": 19,
   "metadata": {
    "ExecuteTime": {
     "end_time": "2021-06-22T09:57:31.599227Z",
     "start_time": "2021-06-22T09:57:31.592075Z"
    }
   },
   "outputs": [],
   "source": [
    "#import nltk\n",
    "#nltk.download()"
   ]
  },
  {
   "cell_type": "code",
   "execution_count": 20,
   "metadata": {
    "ExecuteTime": {
     "end_time": "2021-06-22T09:57:31.611490Z",
     "start_time": "2021-06-22T09:57:31.605488Z"
    }
   },
   "outputs": [],
   "source": [
    "#cook.randomize_training()"
   ]
  },
  {
   "cell_type": "code",
   "execution_count": 21,
   "metadata": {
    "ExecuteTime": {
     "end_time": "2021-06-22T09:57:31.621893Z",
     "start_time": "2021-06-22T09:57:31.617403Z"
    }
   },
   "outputs": [],
   "source": [
    "#final_model = Prediction('train.json')"
   ]
  },
  {
   "cell_type": "code",
   "execution_count": 22,
   "metadata": {
    "ExecuteTime": {
     "end_time": "2021-06-22T09:57:31.768592Z",
     "start_time": "2021-06-22T09:57:31.654844Z"
    }
   },
   "outputs": [],
   "source": [
    "#final_model.mega_process('test.json')"
   ]
  },
  {
   "cell_type": "code",
   "execution_count": null,
   "metadata": {},
   "outputs": [],
   "source": []
  }
 ],
 "metadata": {
  "interpreter": {
   "hash": "ecf05938588f258119a705e35a90285d1782fad5b5526111bb46690071f255de"
  },
  "kernelspec": {
   "display_name": "Python 3",
   "language": "python",
   "name": "python3"
  },
  "language_info": {
   "codemirror_mode": {
    "name": "ipython",
    "version": 3
   },
   "file_extension": ".py",
   "mimetype": "text/x-python",
   "name": "python",
   "nbconvert_exporter": "python",
   "pygments_lexer": "ipython3",
   "version": "3.8.5"
  },
  "latex_envs": {
   "LaTeX_envs_menu_present": true,
   "autoclose": false,
   "autocomplete": true,
   "bibliofile": "biblio.bib",
   "cite_by": "apalike",
   "current_citInitial": 1,
   "eqLabelWithNumbers": true,
   "eqNumInitial": 1,
   "hotkeys": {
    "equation": "Ctrl-E",
    "itemize": "Ctrl-I"
   },
   "labels_anchors": false,
   "latex_user_defs": false,
   "report_style_numbering": false,
   "user_envs_cfg": false
  },
  "toc": {
   "base_numbering": 1,
   "nav_menu": {},
   "number_sections": false,
   "sideBar": true,
   "skip_h1_title": false,
   "title_cell": "Table of Contents",
   "title_sidebar": "Contents",
   "toc_cell": false,
   "toc_position": {},
   "toc_section_display": true,
   "toc_window_display": false
  },
  "varInspector": {
   "cols": {
    "lenName": 16,
    "lenType": 16,
    "lenVar": 40
   },
   "kernels_config": {
    "python": {
     "delete_cmd_postfix": "",
     "delete_cmd_prefix": "del ",
     "library": "var_list.py",
     "varRefreshCmd": "print(var_dic_list())"
    },
    "r": {
     "delete_cmd_postfix": ") ",
     "delete_cmd_prefix": "rm(",
     "library": "var_list.r",
     "varRefreshCmd": "cat(var_dic_list()) "
    }
   },
   "types_to_exclude": [
    "module",
    "function",
    "builtin_function_or_method",
    "instance",
    "_Feature"
   ],
   "window_display": false
  }
 },
 "nbformat": 4,
 "nbformat_minor": 4
}
