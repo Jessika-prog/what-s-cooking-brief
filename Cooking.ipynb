{
 "cells": [
  {
   "cell_type": "markdown",
   "metadata": {},
   "source": [
    "# What's Cooking"
   ]
  },
  {
   "cell_type": "code",
   "execution_count": 1,
   "metadata": {
    "ExecuteTime": {
     "end_time": "2021-06-22T13:38:03.098334Z",
     "start_time": "2021-06-22T13:37:57.741716Z"
    }
   },
   "outputs": [],
   "source": [
    "from vizualisation import Vizualisation\n",
    "from model import Cook\n",
    "from prediction import Prediction\n"
   ]
  },
  {
   "cell_type": "code",
   "execution_count": 2,
   "metadata": {
    "ExecuteTime": {
     "end_time": "2021-06-22T13:38:03.107990Z",
     "start_time": "2021-06-22T13:38:03.102832Z"
    }
   },
   "outputs": [],
   "source": [
    "#viz = Vizualisation('train.json')"
   ]
  },
  {
   "cell_type": "code",
   "execution_count": 3,
   "metadata": {
    "ExecuteTime": {
     "end_time": "2021-06-22T13:38:03.135171Z",
     "start_time": "2021-06-22T13:38:03.115513Z"
    }
   },
   "outputs": [],
   "source": [
    "#viz.df_info()"
   ]
  },
  {
   "cell_type": "code",
   "execution_count": 4,
   "metadata": {
    "ExecuteTime": {
     "end_time": "2021-06-22T13:38:03.166017Z",
     "start_time": "2021-06-22T13:38:03.150918Z"
    }
   },
   "outputs": [],
   "source": [
    "#viz.nb_ingredients_by_recipes()"
   ]
  },
  {
   "cell_type": "code",
   "execution_count": 5,
   "metadata": {
    "ExecuteTime": {
     "end_time": "2021-06-22T13:38:03.187918Z",
     "start_time": "2021-06-22T13:38:03.181433Z"
    }
   },
   "outputs": [],
   "source": [
    "#viz.country_recipes()"
   ]
  },
  {
   "cell_type": "code",
   "execution_count": 6,
   "metadata": {
    "ExecuteTime": {
     "end_time": "2021-06-22T13:38:03.209354Z",
     "start_time": "2021-06-22T13:38:03.200308Z"
    }
   },
   "outputs": [],
   "source": [
    "#viz.nb_ingredients_by_country()"
   ]
  },
  {
   "cell_type": "code",
   "execution_count": 7,
   "metadata": {
    "ExecuteTime": {
     "end_time": "2021-06-22T13:38:03.217762Z",
     "start_time": "2021-06-22T13:38:03.213846Z"
    }
   },
   "outputs": [],
   "source": [
    "#cook = Cook('train.json')"
   ]
  },
  {
   "cell_type": "code",
   "execution_count": 8,
   "metadata": {
    "ExecuteTime": {
     "end_time": "2021-06-22T13:38:03.229035Z",
     "start_time": "2021-06-22T13:38:03.225041Z"
    }
   },
   "outputs": [],
   "source": [
    "#cook.mega_linearSVC()"
   ]
  },
  {
   "cell_type": "code",
   "execution_count": 9,
   "metadata": {
    "ExecuteTime": {
     "end_time": "2021-06-22T13:38:03.242343Z",
     "start_time": "2021-06-22T13:38:03.234151Z"
    }
   },
   "outputs": [],
   "source": [
    "#cook = Cook('train.json')"
   ]
  },
  {
   "cell_type": "code",
   "execution_count": 10,
   "metadata": {
    "ExecuteTime": {
     "end_time": "2021-06-22T13:38:03.258432Z",
     "start_time": "2021-06-22T13:38:03.247536Z"
    },
    "scrolled": true
   },
   "outputs": [],
   "source": [
    "#cook.mega_SGDClassifier()"
   ]
  },
  {
   "cell_type": "code",
   "execution_count": 11,
   "metadata": {
    "ExecuteTime": {
     "end_time": "2021-06-22T13:38:03.279948Z",
     "start_time": "2021-06-22T13:38:03.272535Z"
    }
   },
   "outputs": [],
   "source": [
    "#cook = Cook('train.json')"
   ]
  },
  {
   "cell_type": "code",
   "execution_count": 12,
   "metadata": {
    "ExecuteTime": {
     "end_time": "2021-06-22T13:38:03.299904Z",
     "start_time": "2021-06-22T13:38:03.292837Z"
    }
   },
   "outputs": [],
   "source": [
    "#cook = Cook('train.json')"
   ]
  },
  {
   "cell_type": "code",
   "execution_count": 13,
   "metadata": {
    "ExecuteTime": {
     "end_time": "2021-06-22T13:38:03.316282Z",
     "start_time": "2021-06-22T13:38:03.311730Z"
    }
   },
   "outputs": [],
   "source": [
    "#cook.mega_LogisticRegression()"
   ]
  },
  {
   "cell_type": "code",
   "execution_count": 14,
   "metadata": {
    "ExecuteTime": {
     "end_time": "2021-06-22T13:38:03.332470Z",
     "start_time": "2021-06-22T13:38:03.326176Z"
    }
   },
   "outputs": [],
   "source": [
    "#cook = Cook('train.json')"
   ]
  },
  {
   "cell_type": "code",
   "execution_count": 15,
   "metadata": {
    "ExecuteTime": {
     "end_time": "2021-06-22T13:38:03.345840Z",
     "start_time": "2021-06-22T13:38:03.339077Z"
    }
   },
   "outputs": [],
   "source": [
    "#cook.mega_GradientBoostingClassifier()"
   ]
  },
  {
   "cell_type": "code",
   "execution_count": 16,
   "metadata": {
    "ExecuteTime": {
     "end_time": "2021-06-22T13:38:03.730799Z",
     "start_time": "2021-06-22T13:38:03.352210Z"
    }
   },
   "outputs": [],
   "source": [
    "#cook = Cook('train.json')"
   ]
  },
  {
   "cell_type": "code",
   "execution_count": 18,
   "metadata": {
    "ExecuteTime": {
     "end_time": "2021-06-22T13:50:00.050107Z",
     "start_time": "2021-06-22T13:38:57.088722Z"
    }
   },
   "outputs": [
    {
     "data": {
      "text/plain": [
       "array(['korean', 'italian', 'italian', ..., 'southern_us', 'indian',\n",
       "       'italian'], dtype=object)"
      ]
     },
     "metadata": {},
     "output_type": "display_data"
    },
    {
     "name": "stdout",
     "output_type": "stream",
     "text": [
      "0.48628675910406827\n"
     ]
    }
   ],
   "source": [
    "#cook.mega_AdaBoostClassifier()"
   ]
  },
  {
   "cell_type": "code",
   "execution_count": null,
   "metadata": {
    "ExecuteTime": {
     "end_time": "2021-06-22T13:38:04.206985Z",
     "start_time": "2021-06-22T13:37:57.733Z"
    }
   },
   "outputs": [],
   "source": [
    "#cook.mega_KNeighborsClassifier()"
   ]
  },
  {
   "cell_type": "code",
   "execution_count": null,
   "metadata": {
    "ExecuteTime": {
     "end_time": "2021-06-22T13:38:04.210699Z",
     "start_time": "2021-06-22T13:37:57.736Z"
    }
   },
   "outputs": [],
   "source": [
    "#cook = Cook('train.json')"
   ]
  },
  {
   "cell_type": "code",
   "execution_count": null,
   "metadata": {
    "ExecuteTime": {
     "end_time": "2021-06-22T13:38:04.213105Z",
     "start_time": "2021-06-22T13:37:57.739Z"
    }
   },
   "outputs": [],
   "source": [
    "#cook.mega_training()"
   ]
  },
  {
   "cell_type": "code",
   "execution_count": null,
   "metadata": {
    "ExecuteTime": {
     "end_time": "2021-06-22T13:38:04.216272Z",
     "start_time": "2021-06-22T13:37:57.744Z"
    }
   },
   "outputs": [],
   "source": [
    "#cook = Cook('train.json')"
   ]
  },
  {
   "cell_type": "code",
   "execution_count": null,
   "metadata": {
    "ExecuteTime": {
     "end_time": "2021-06-22T13:38:04.218975Z",
     "start_time": "2021-06-22T13:37:57.748Z"
    }
   },
   "outputs": [],
   "source": [
    "#cook.stacking_training()"
   ]
  },
  {
   "cell_type": "code",
   "execution_count": null,
   "metadata": {
    "ExecuteTime": {
     "end_time": "2021-06-22T13:38:04.223754Z",
     "start_time": "2021-06-22T13:37:57.751Z"
    }
   },
   "outputs": [],
   "source": [
    "#import nltk\n",
    "#nltk.download()"
   ]
  },
  {
   "cell_type": "code",
   "execution_count": null,
   "metadata": {
    "ExecuteTime": {
     "end_time": "2021-06-22T13:38:04.227035Z",
     "start_time": "2021-06-22T13:37:57.753Z"
    }
   },
   "outputs": [],
   "source": [
    "#cook.randomize_training()"
   ]
  },
  {
   "cell_type": "code",
   "execution_count": null,
   "metadata": {
    "ExecuteTime": {
     "end_time": "2021-06-22T13:38:04.229770Z",
     "start_time": "2021-06-22T13:37:57.758Z"
    }
   },
   "outputs": [],
   "source": [
    "#final_model = Prediction('train.json')"
   ]
  },
  {
   "cell_type": "code",
   "execution_count": null,
   "metadata": {
    "ExecuteTime": {
     "end_time": "2021-06-22T13:38:04.232622Z",
     "start_time": "2021-06-22T13:37:57.762Z"
    }
   },
   "outputs": [],
   "source": [
    "#final_model.mega_process('test.json')"
   ]
  },
  {
   "cell_type": "code",
   "execution_count": null,
   "metadata": {},
   "outputs": [],
   "source": []
  }
 ],
 "metadata": {
  "interpreter": {
   "hash": "ecf05938588f258119a705e35a90285d1782fad5b5526111bb46690071f255de"
  },
  "kernelspec": {
   "display_name": "Python 3",
   "language": "python",
   "name": "python3"
  },
  "language_info": {
   "codemirror_mode": {
    "name": "ipython",
    "version": 3
   },
   "file_extension": ".py",
   "mimetype": "text/x-python",
   "name": "python",
   "nbconvert_exporter": "python",
   "pygments_lexer": "ipython3",
   "version": "3.8.10"
  },
  "toc": {
   "base_numbering": 1,
   "nav_menu": {},
   "number_sections": false,
   "sideBar": true,
   "skip_h1_title": false,
   "title_cell": "Table of Contents",
   "title_sidebar": "Contents",
   "toc_cell": false,
   "toc_position": {},
   "toc_section_display": true,
   "toc_window_display": false
  },
  "varInspector": {
   "cols": {
    "lenName": 16,
    "lenType": 16,
    "lenVar": 40
   },
   "kernels_config": {
    "python": {
     "delete_cmd_postfix": "",
     "delete_cmd_prefix": "del ",
     "library": "var_list.py",
     "varRefreshCmd": "print(var_dic_list())"
    },
    "r": {
     "delete_cmd_postfix": ") ",
     "delete_cmd_prefix": "rm(",
     "library": "var_list.r",
     "varRefreshCmd": "cat(var_dic_list()) "
    }
   },
   "types_to_exclude": [
    "module",
    "function",
    "builtin_function_or_method",
    "instance",
    "_Feature"
   ],
   "window_display": false
  }
 },
 "nbformat": 4,
 "nbformat_minor": 4
}
